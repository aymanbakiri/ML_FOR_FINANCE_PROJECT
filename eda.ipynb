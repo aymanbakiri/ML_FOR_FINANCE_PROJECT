{
 "cells": [
  {
   "cell_type": "code",
   "execution_count": 1,
   "id": "a05f5b78",
   "metadata": {},
   "outputs": [],
   "source": [
    "import pandas as pd"
   ]
  },
  {
   "cell_type": "code",
   "execution_count": 21,
   "id": "cd7b938f",
   "metadata": {},
   "outputs": [
    {
     "name": "stderr",
     "output_type": "stream",
     "text": [
      "/var/folders/fn/4xlpvr555jx0gt6033j7x9lr0000gn/T/ipykernel_33264/653101363.py:2: DtypeWarning: Columns (10) have mixed types. Specify dtype option on import or set low_memory=False.\n",
      "  compfirmcharac = pd.read_csv('CompFirmCharac.csv')\n",
      "/var/folders/fn/4xlpvr555jx0gt6033j7x9lr0000gn/T/ipykernel_33264/653101363.py:12: DtypeWarning: Columns (1,2) have mixed types. Specify dtype option on import or set low_memory=False.\n",
      "  targetsDaily = pd.read_csv('daily_crsp.csv')\n"
     ]
    }
   ],
   "source": [
    "# Quarterly Compustat Firm Characteristics\n",
    "compfirmcharac = pd.read_csv('CompFirmCharac.csv')\n",
    "# Jensen, Kelly, and Pedersen (JKP) factors\n",
    "jkpfactors = pd.read_csv('[usa]_[all_factors]_[monthly]_[vw_cap].csv')\n",
    "# 10-K Reports\n",
    "reports10k = pd.read_parquet('mda_text.parquet')\n",
    "# Chen-Zimmerman data\n",
    "chenzimmerman = pd.read_csv('PredictorLSretWide-feds-2021037.csv')\n",
    "# Earnings Calls\n",
    "earningscalls = pd.read_parquet('earnings_calls.parquet')\n",
    "# Daily CRSP data\n",
    "targetsDaily = pd.read_csv('daily_crsp.csv')"
   ]
  },
  {
   "cell_type": "code",
   "execution_count": null,
   "id": "8167be68",
   "metadata": {},
   "outputs": [],
   "source": []
  }
 ],
 "metadata": {
  "kernelspec": {
   "display_name": "Python (base)",
   "language": "python",
   "name": "base"
  },
  "language_info": {
   "codemirror_mode": {
    "name": "ipython",
    "version": 3
   },
   "file_extension": ".py",
   "mimetype": "text/x-python",
   "name": "python",
   "nbconvert_exporter": "python",
   "pygments_lexer": "ipython3",
   "version": "3.9.21"
  }
 },
 "nbformat": 4,
 "nbformat_minor": 5
}
