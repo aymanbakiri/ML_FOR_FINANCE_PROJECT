{
 "cells": [
  {
   "cell_type": "code",
   "execution_count": null,
   "id": "a05f5b78",
   "metadata": {},
   "outputs": [],
   "source": [
    "import pandas as pd\n",
    "import matplotlib.pyplot as plt\n",
    "import seaborn as sns\n",
    "import numpy as np"
   ]
  },
  {
   "cell_type": "code",
   "execution_count": null,
   "id": "cd7b938f",
   "metadata": {},
   "outputs": [
    {
     "name": "stderr",
     "output_type": "stream",
     "text": [
      "/var/folders/fn/4xlpvr555jx0gt6033j7x9lr0000gn/T/ipykernel_37107/3804018054.py:10: DtypeWarning: Columns (10) have mixed types. Specify dtype option on import or set low_memory=False.\n",
      "  for i, chunk in enumerate(pd.read_csv(path, chunksize=chunk_size)):\n"
     ]
    },
    {
     "name": "stdout",
     "output_type": "stream",
     "text": [
      "Processing chunk 1\n"
     ]
    },
    {
     "name": "stderr",
     "output_type": "stream",
     "text": [
      "/var/folders/fn/4xlpvr555jx0gt6033j7x9lr0000gn/T/ipykernel_37107/3804018054.py:10: DtypeWarning: Columns (10) have mixed types. Specify dtype option on import or set low_memory=False.\n",
      "  for i, chunk in enumerate(pd.read_csv(path, chunksize=chunk_size)):\n"
     ]
    },
    {
     "name": "stdout",
     "output_type": "stream",
     "text": [
      "Processing chunk 2\n"
     ]
    },
    {
     "name": "stderr",
     "output_type": "stream",
     "text": [
      "/var/folders/fn/4xlpvr555jx0gt6033j7x9lr0000gn/T/ipykernel_37107/3804018054.py:10: DtypeWarning: Columns (10) have mixed types. Specify dtype option on import or set low_memory=False.\n",
      "  for i, chunk in enumerate(pd.read_csv(path, chunksize=chunk_size)):\n"
     ]
    },
    {
     "name": "stdout",
     "output_type": "stream",
     "text": [
      "Processing chunk 3\n"
     ]
    },
    {
     "name": "stderr",
     "output_type": "stream",
     "text": [
      "/var/folders/fn/4xlpvr555jx0gt6033j7x9lr0000gn/T/ipykernel_37107/3804018054.py:10: DtypeWarning: Columns (10) have mixed types. Specify dtype option on import or set low_memory=False.\n",
      "  for i, chunk in enumerate(pd.read_csv(path, chunksize=chunk_size)):\n"
     ]
    },
    {
     "name": "stdout",
     "output_type": "stream",
     "text": [
      "Processing chunk 4\n"
     ]
    },
    {
     "name": "stderr",
     "output_type": "stream",
     "text": [
      "/var/folders/fn/4xlpvr555jx0gt6033j7x9lr0000gn/T/ipykernel_37107/3804018054.py:10: DtypeWarning: Columns (10) have mixed types. Specify dtype option on import or set low_memory=False.\n",
      "  for i, chunk in enumerate(pd.read_csv(path, chunksize=chunk_size)):\n"
     ]
    },
    {
     "name": "stdout",
     "output_type": "stream",
     "text": [
      "Processing chunk 5\n"
     ]
    },
    {
     "name": "stderr",
     "output_type": "stream",
     "text": [
      "/var/folders/fn/4xlpvr555jx0gt6033j7x9lr0000gn/T/ipykernel_37107/3804018054.py:10: DtypeWarning: Columns (10) have mixed types. Specify dtype option on import or set low_memory=False.\n",
      "  for i, chunk in enumerate(pd.read_csv(path, chunksize=chunk_size)):\n"
     ]
    },
    {
     "name": "stdout",
     "output_type": "stream",
     "text": [
      "Processing chunk 6\n"
     ]
    },
    {
     "name": "stderr",
     "output_type": "stream",
     "text": [
      "/var/folders/fn/4xlpvr555jx0gt6033j7x9lr0000gn/T/ipykernel_37107/3804018054.py:10: DtypeWarning: Columns (10) have mixed types. Specify dtype option on import or set low_memory=False.\n",
      "  for i, chunk in enumerate(pd.read_csv(path, chunksize=chunk_size)):\n"
     ]
    },
    {
     "name": "stdout",
     "output_type": "stream",
     "text": [
      "Processing chunk 7\n",
      "Processing chunk 8\n",
      "Processing chunk 9\n",
      "Processing chunk 10\n",
      "Processing chunk 11\n",
      "Processing chunk 12\n",
      "Processing chunk 13\n",
      "Processing chunk 14\n",
      "Processing chunk 15\n",
      "Processing chunk 16\n",
      "Processing chunk 17\n",
      "Processing chunk 18\n",
      "Processing chunk 19\n",
      "Processing chunk 20\n",
      "Processing chunk 21\n",
      "\n",
      "=== Résumé EDA (par chunks) ===\n",
      "Nombre total de lignes : 2052014\n",
      "\n",
      "Valeurs manquantes (top 10) :\n",
      "ustdncy     0.999998\n",
      "unwccy      0.999998\n",
      "uwkcapcy    0.999998\n",
      "utfoscy     0.999996\n",
      "tsafcy      0.999996\n",
      "ufretsdy    0.999996\n",
      "utfdocy     0.999996\n",
      "arceepsy    0.999832\n",
      "arcedy      0.999832\n",
      "arcey       0.999826\n",
      "dtype: float64\n",
      "\n",
      "Types de colonnes :\n",
      "float64    239\n",
      "object      13\n",
      "int64        4\n",
      "Name: count, dtype: int64\n"
     ]
    }
   ],
   "source": [
    "# 1. Quarterly Compustat Firm Characteristics\n",
    "chunk_size = 100_000\n",
    "path = 'CompFirmCharac.csv'\n",
    "\n",
    "# Initialisation\n",
    "total_rows = 0\n",
    "null_sums = None\n",
    "dtypes_collected = None\n",
    "\n",
    "# Lecture par morceaux\n",
    "for i, chunk in enumerate(pd.read_csv(path, chunksize=chunk_size)):\n",
    "    print(f\"Processing chunk {i+1}\")\n",
    "\n",
    "    # Compte des lignes\n",
    "    total_rows += len(chunk)\n",
    "\n",
    "    # Comptage des valeurs manquantes\n",
    "    chunk_nulls = chunk.isnull().sum()\n",
    "\n",
    "    if null_sums is None:\n",
    "        null_sums = chunk_nulls\n",
    "    else:\n",
    "        null_sums += chunk_nulls\n",
    "\n",
    "    # Collecte des dtypes (seulement une fois)\n",
    "    if dtypes_collected is None:\n",
    "        dtypes_collected = chunk.dtypes\n",
    "\n",
    "# Résumé final\n",
    "print(\"\\n=== Résumé EDA (par chunks) ===\")\n",
    "print(f\"Nombre total de lignes : {total_rows}\")\n",
    "print(\"\\nValeurs manquantes (top 10) :\")\n",
    "print((null_sums / total_rows).sort_values(ascending=False).head(10))\n",
    "print(\"\\nTypes de colonnes :\")\n",
    "print(dtypes_collected.value_counts())\n"
   ]
  },
  {
   "cell_type": "code",
   "execution_count": 6,
   "id": "0f318da8",
   "metadata": {},
   "outputs": [
    {
     "name": "stdout",
     "output_type": "stream",
     "text": [
      "28 colonnes seront supprimées (trop de NaNs)\n"
     ]
    },
    {
     "name": "stderr",
     "output_type": "stream",
     "text": [
      "/var/folders/fn/4xlpvr555jx0gt6033j7x9lr0000gn/T/ipykernel_37107/2745984033.py:9: DtypeWarning: Columns (10) have mixed types. Specify dtype option on import or set low_memory=False.\n",
      "  for chunk in pd.read_csv(path, chunksize=chunk_size):\n",
      "/var/folders/fn/4xlpvr555jx0gt6033j7x9lr0000gn/T/ipykernel_37107/2745984033.py:9: DtypeWarning: Columns (10) have mixed types. Specify dtype option on import or set low_memory=False.\n",
      "  for chunk in pd.read_csv(path, chunksize=chunk_size):\n",
      "/var/folders/fn/4xlpvr555jx0gt6033j7x9lr0000gn/T/ipykernel_37107/2745984033.py:9: DtypeWarning: Columns (10) have mixed types. Specify dtype option on import or set low_memory=False.\n",
      "  for chunk in pd.read_csv(path, chunksize=chunk_size):\n",
      "/var/folders/fn/4xlpvr555jx0gt6033j7x9lr0000gn/T/ipykernel_37107/2745984033.py:9: DtypeWarning: Columns (10) have mixed types. Specify dtype option on import or set low_memory=False.\n",
      "  for chunk in pd.read_csv(path, chunksize=chunk_size):\n",
      "/var/folders/fn/4xlpvr555jx0gt6033j7x9lr0000gn/T/ipykernel_37107/2745984033.py:9: DtypeWarning: Columns (10) have mixed types. Specify dtype option on import or set low_memory=False.\n",
      "  for chunk in pd.read_csv(path, chunksize=chunk_size):\n",
      "/var/folders/fn/4xlpvr555jx0gt6033j7x9lr0000gn/T/ipykernel_37107/2745984033.py:9: DtypeWarning: Columns (10) have mixed types. Specify dtype option on import or set low_memory=False.\n",
      "  for chunk in pd.read_csv(path, chunksize=chunk_size):\n",
      "/var/folders/fn/4xlpvr555jx0gt6033j7x9lr0000gn/T/ipykernel_37107/2745984033.py:9: DtypeWarning: Columns (10) have mixed types. Specify dtype option on import or set low_memory=False.\n",
      "  for chunk in pd.read_csv(path, chunksize=chunk_size):\n"
     ]
    },
    {
     "name": "stdout",
     "output_type": "stream",
     "text": [
      "CSV nettoyé sauvegardé sous : CompFirmCharac_cleaned.csv\n"
     ]
    }
   ],
   "source": [
    "# Étape 2 : identifier les colonnes à supprimer\n",
    "columns_to_drop = (null_sums / total_rows)[(null_sums / total_rows) > 0.99].index.tolist()\n",
    "print(f\"{len(columns_to_drop)} colonnes seront supprimées (trop de NaNs)\")\n",
    "\n",
    "output_path = 'CompFirmCharac_cleaned.csv'\n",
    "\n",
    "# Étape 3 : lire à nouveau et écrire le CSV nettoyé\n",
    "first_chunk = True\n",
    "for chunk in pd.read_csv(path, chunksize=chunk_size):\n",
    "    chunk = chunk.drop(columns=columns_to_drop)\n",
    "\n",
    "    # Sauvegarder par append\n",
    "    chunk.to_csv(output_path, index=False, mode='w' if first_chunk else 'a', header=first_chunk)\n",
    "    first_chunk = False\n",
    "\n",
    "print(f\"CSV nettoyé sauvegardé sous : {output_path}\")"
   ]
  },
  {
   "cell_type": "code",
   "execution_count": 7,
   "id": "b9155b0f",
   "metadata": {},
   "outputs": [
    {
     "name": "stdout",
     "output_type": "stream",
     "text": [
      "=== Aperçu du dataset nettoyé ===\n",
      "Lignes : 2052014, Colonnes : 228\n",
      "\n",
      "Types de données :\n",
      "float64    212\n",
      "object      13\n",
      "int64        3\n",
      "Name: count, dtype: int64\n",
      "\n",
      "Top 10 colonnes avec le plus de NaNs :\n",
      "pdvcy        0.989758\n",
      "dprety       0.989375\n",
      "tdcy         0.988789\n",
      "srety        0.988772\n",
      "nrtxtepsy    0.988048\n",
      "prstkccy     0.987903\n",
      "depcy        0.987828\n",
      "uaolochy     0.987792\n",
      "uoisy        0.987788\n",
      "cdvcy        0.987627\n",
      "dtype: float64\n"
     ]
    },
    {
     "data": {
      "image/png": "[encoded data removed]",
      "text/plain": [
       "<Figure size 640x480 with 1 Axes>"
      ]
     },
     "metadata": {},
     "output_type": "display_data"
    },
    {
     "data": {
      "image/png": "[encoded data removed]",
      "text/plain": [
       "<Figure size 1200x800 with 6 Axes>"
      ]
     },
     "metadata": {},
     "output_type": "display_data"
    }
   ],
   "source": [
    "df = pd.read_csv('CompFirmCharac_cleaned.csv', low_memory=False)\n",
    "\n",
    "# Aperçu général\n",
    "print(\"=== Aperçu du dataset nettoyé ===\")\n",
    "print(f\"Lignes : {df.shape[0]}, Colonnes : {df.shape[1]}\")\n",
    "print(\"\\nTypes de données :\")\n",
    "print(df.dtypes.value_counts())\n",
    "\n",
    "# Valeurs manquantes (top 10)\n",
    "print(\"\\nTop 10 colonnes avec le plus de NaNs :\")\n",
    "print(df.isnull().mean().sort_values(ascending=False).head(10))\n",
    "\n",
    "# Distribution temporelle si colonne 'datadate' existe\n",
    "if 'datadate' in df.columns:\n",
    "    df['datadate'] = pd.to_datetime(df['datadate'], errors='coerce')\n",
    "    df['datadate'].dt.year.value_counts().sort_index().plot()\n",
    "    plt.title(\"Nombre d'observations par année\")\n",
    "    plt.xlabel(\"Année\")\n",
    "    plt.ylabel(\"Count\")\n",
    "    plt.show()\n",
    "\n",
    "# Histogrammes de colonnes numériques (exemple)\n",
    "num_cols = df.select_dtypes(include='number').columns[:5]  # les 5 premières\n",
    "df[num_cols].hist(bins=50, figsize=(12, 8))\n",
    "plt.suptitle(\"Distributions des colonnes numériques (extrait)\")\n",
    "plt.show()"
   ]
  },
  {
   "cell_type": "code",
   "execution_count": null,
   "id": "52db9c64",
   "metadata": {},
   "outputs": [
    {
     "name": "stdout",
     "output_type": "stream",
     "text": [
      "\n",
      "🔗 Paires de variables corrélées (> 0.8) :\n",
      "            Var1       Var2  Correlation\n",
      "10577      saley      revty     1.000000\n",
      "10455      revty      saley     1.000000\n",
      "14266   xoptepsy     xoptdy     1.000000\n",
      "14023     xoptdy   xoptepsy     1.000000\n",
      "10825    spcedpy  spceepspy     1.000000\n",
      "11068  spceepspy    spcedpy     1.000000\n",
      "11191   spceepsy     spcedy     1.000000\n",
      "10948     spcedy   spceepsy     1.000000\n",
      "4183      epsfxy     epspxy     0.999999\n",
      "4426      epspxy     epsfxy     0.999999\n",
      "8487      pncpdy   pncpepsy     0.999997\n",
      "8609    pncpepsy     pncpdy     0.999997\n",
      "10946     spcedy    spcedpy     0.999993\n",
      "10824    spcedpy     spcedy     0.999993\n",
      "11192   spceepsy  spceepspy     0.999993\n",
      "11070  spceepspy   spceepsy     0.999993\n",
      "10947     spcedy  spceepspy     0.999992\n",
      "11069  spceepspy     spcedy     0.999992\n",
      "11190   spceepsy    spcedpy     0.999992\n",
      "10826    spcedpy   spceepsy     0.999992\n"
     ]
    }
   ],
   "source": [
    "df = df.loc[:, df.isnull().mean() < 0.90]  \n",
    "\n",
    "# Garder seulement les colonnes numériques\n",
    "num_df = df.select_dtypes(include='number')\n",
    "\n",
    "# Supprimer les colonnes avec trop peu de variance\n",
    "num_df = num_df.loc[:, num_df.std() > 1e-6]\n",
    "\n",
    "# Corrélation absolue\n",
    "corr = num_df.corr().abs()\n",
    "\n",
    "# Récupérer les paires corrélées fortement (hors diagonale)\n",
    "high_corr = (\n",
    "    corr.where(~np.eye(corr.shape[0], dtype=bool))\n",
    "\n",
    "    .stack()\n",
    "    .reset_index()\n",
    "    .rename(columns={'level_0': 'Var1', 'level_1': 'Var2', 0: 'Correlation'})\n",
    ")\n",
    "\n",
    "# Filtrer les corrélations élevées\n",
    "strong_corr = high_corr[high_corr['Correlation'] > 0.8].sort_values(by='Correlation', ascending=False)\n",
    "\n",
    "print(\"\\nPaires de variables corrélées (> 0.8) :\")\n",
    "print(strong_corr.head(20))  # affiche les 20 plus corrélées"
   ]
  },
  {
   "cell_type": "code",
   "execution_count": 13,
   "id": "4f3b2311",
   "metadata": {},
   "outputs": [
    {
     "name": "stdout",
     "output_type": "stream",
     "text": [
      "46 colonnes à supprimer pour redondance > 0.8\n"
     ]
    }
   ],
   "source": [
    "# Liste des variables déjà marquées pour suppression\n",
    "to_drop = set()\n",
    "\n",
    "for _, row in strong_corr.iterrows():\n",
    "    if row['Var1'] not in to_drop and row['Var2'] not in to_drop:\n",
    "        to_drop.add(row['Var2'])  # on garde Var1 et on vire Var2\n",
    "\n",
    "print(f\"{len(to_drop)} colonnes à supprimer pour redondance > 0.8\")\n",
    "\n",
    "df_reduced = num_df.drop(columns=list(to_drop))\n",
    "\n"
   ]
  },
  {
   "cell_type": "code",
   "execution_count": null,
   "id": "28ad65a4",
   "metadata": {},
   "outputs": [],
   "source": [
    "non_num = df.select_dtypes(exclude='number')\n",
    "df_final = pd.concat([df_reduced, non_num], axis=1)\n",
    "# Delete rows with too many NaNs\n",
    "row_threshold = 0.8\n",
    "df_final = df_final[df_final.isnull().mean(axis=1) < row_threshold]\n"
   ]
  },
  {
   "cell_type": "code",
   "execution_count": 20,
   "id": "7db2a560",
   "metadata": {},
   "outputs": [],
   "source": [
    "df_final.to_csv('CompFirmCharac_final.csv', index=False)\n"
   ]
  },
  {
   "cell_type": "code",
   "execution_count": 23,
   "id": "da81f309",
   "metadata": {},
   "outputs": [
    {
     "data": {
      "text/plain": [
       "Index(['gvkey', 'fyearq', 'fqtr', 'fyr', 'aolochy', 'apalchy', 'aqcy', 'capxy',\n",
       "       'chechy', 'cicurry', 'cidergly', 'cimiiy', 'ciothery', 'cipeny',\n",
       "       'cisecgly', 'cogsy', 'cshfdy', 'cstkey', 'dilady', 'dilavy', 'dlcchy',\n",
       "       'dltry', 'doy', 'dvpy', 'dvy', 'epsfxy', 'esubcy', 'exrey', 'fcay',\n",
       "       'fiaoy', 'fincfy', 'fopoy', 'invchy', 'ivacoy', 'ivchy', 'ivncfy',\n",
       "       'ivstchy', 'nopiy', 'oancfy', 'oibdpy', 'optlifey', 'optrfry',\n",
       "       'optvoly', 'pncdy', 'pncpdy', 'pncpy', 'pncy', 'prcay', 'prcepsy',\n",
       "       'prcpdy', 'prcpy', 'prstkcy', 'rdipay', 'rdipepsy', 'recchy', 'spiy',\n",
       "       'sppey', 'sppivy', 'sstky', 'stkcpay', 'txachy', 'txbcofy', 'txbcoy',\n",
       "       'txdiy', 'txpdy', 'txty', 'txwy', 'xidocy', 'xidoy', 'xinty', 'xiy',\n",
       "       'xoptdqpy', 'xoptepsy', 'xoptqpy', 'xsgay', 'exchg', 'cik', 'datadate',\n",
       "       'indfmt', 'consol', 'popsrc', 'datafmt', 'tic', 'cusip', 'conm',\n",
       "       'curcdq', 'datacqtr', 'datafqtr', 'costat', 'fic'],\n",
       "      dtype='object')"
      ]
     },
     "execution_count": 23,
     "metadata": {},
     "output_type": "execute_result"
    }
   ],
   "source": [
    "Compfirmcharac = pd.read_csv('CompFirmCharac_final.csv', low_memory=False)\n",
    "Compfirmcharac.columns"
   ]
  },
  {
   "cell_type": "code",
   "execution_count": 22,
   "id": "4bc66761",
   "metadata": {},
   "outputs": [],
   "source": [
    "# 2. Jensen, Kelly, and Pedersen (JKP) factors\n",
    "jkpfactors = pd.read_csv('[usa]_[all_factors]_[monthly]_[vw_cap].csv')"
   ]
  },
  {
   "cell_type": "code",
   "execution_count": 23,
   "id": "c12e52db",
   "metadata": {},
   "outputs": [
    {
     "name": "stdout",
     "output_type": "stream",
     "text": [
      "location         object\n",
      "name             object\n",
      "freq             object\n",
      "weighting        object\n",
      "direction         int64\n",
      "n_stocks          int64\n",
      "n_stocks_min      int64\n",
      "date             object\n",
      "ret             float64\n",
      "dtype: object\n",
      "  location name     freq weighting  direction  n_stocks  n_stocks_min  \\\n",
      "0      usa  age  monthly    vw_cap         -1       502             8   \n",
      "1      usa  age  monthly    vw_cap         -1       505            12   \n",
      "2      usa  age  monthly    vw_cap         -1       510            17   \n",
      "3      usa  age  monthly    vw_cap         -1       512            21   \n",
      "4      usa  age  monthly    vw_cap         -1       503            23   \n",
      "\n",
      "         date       ret  \n",
      "0  1926-03-31 -0.086738  \n",
      "1  1926-04-30 -0.000572  \n",
      "2  1926-05-31 -0.006332  \n",
      "3  1926-06-30 -0.003012  \n",
      "4  1926-07-31  0.003211  \n"
     ]
    }
   ],
   "source": [
    "print(jkpfactors.dtypes)\n",
    "print(jkpfactors.head())"
   ]
  },
  {
   "cell_type": "code",
   "execution_count": 25,
   "id": "16fe3964",
   "metadata": {},
   "outputs": [
    {
     "name": "stderr",
     "output_type": "stream",
     "text": [
      "/var/folders/fn/4xlpvr555jx0gt6033j7x9lr0000gn/T/ipykernel_37107/3401262906.py:19: FutureWarning: DataFrame.fillna with 'method' is deprecated and will raise in a future version. Use obj.ffill() or obj.bfill() instead.\n",
      "  jkpfactors_wide = jkpfactors_wide.fillna(method='ffill')\n"
     ]
    }
   ],
   "source": [
    "jkpfactors['date'] = pd.to_datetime(jkpfactors['date'], errors='coerce')\n",
    "\n",
    "# Keep only necessary columns\n",
    "jkpfactors = jkpfactors[['date', 'name', 'ret']]\n",
    "\n",
    "# Drop rows with missing values\n",
    "jkpfactors = jkpfactors.dropna()\n",
    "\n",
    "# Pivot to wide format: one column per factor\n",
    "jkpfactors_wide = jkpfactors.pivot(index='date', columns='name', values='ret')\n",
    "\n",
    "# Sort by date\n",
    "jkpfactors_wide = jkpfactors_wide.sort_index()\n",
    "\n",
    "# Drop factors with too many NaNs (>5%)\n",
    "jkpfactors_wide = jkpfactors_wide.dropna(axis=1, thresh=0.95 * len(jkpfactors_wide))\n",
    "\n",
    "# Forward-fill missing returns (optional)\n",
    "jkpfactors_wide = jkpfactors_wide.fillna(method='ffill')\n",
    "\n",
    "# Save cleaned version\n",
    "jkpfactors_wide.to_csv(\"JKP_cleaned.csv\")"
   ]
  },
  {
   "cell_type": "code",
   "execution_count": 26,
   "id": "b4a22440",
   "metadata": {},
   "outputs": [],
   "source": [
    "# 3. Chen-Zimmerman data\n",
    "\n",
    "chenzim = pd.read_csv('PredictorLSretWide-feds-2021037.csv')"
   ]
  },
  {
   "cell_type": "code",
   "execution_count": 32,
   "id": "22ea4f1e",
   "metadata": {},
   "outputs": [
    {
     "name": "stderr",
     "output_type": "stream",
     "text": [
      "/var/folders/fn/4xlpvr555jx0gt6033j7x9lr0000gn/T/ipykernel_37107/1383606179.py:5: FutureWarning: DataFrame.fillna with 'method' is deprecated and will raise in a future version. Use obj.ffill() or obj.bfill() instead.\n",
      "  chenzim = chenzim.fillna(method='ffill')\n"
     ]
    }
   ],
   "source": [
    "chenzim['date'] = pd.to_datetime(chenzim['date'], errors='coerce')\n",
    "chenzim = chenzim.sort_values(by='date')\n",
    "chenzim = chenzim.set_index('date')\n",
    "chenzim = chenzim.dropna(axis=1, thresh=0.95 * len(chenzim))\n",
    "chenzim = chenzim.fillna(method='ffill')\n",
    "chenzim.to_csv('ChenZimmerman_cleaned.csv')"
   ]
  },
  {
   "cell_type": "code",
   "execution_count": 33,
   "id": "d8160854",
   "metadata": {},
   "outputs": [],
   "source": [
    "# 4. 10K reports \n",
    "\n",
    "reports = pd.read_parquet('mda_text.parquet')"
   ]
  },
  {
   "cell_type": "code",
   "execution_count": 34,
   "id": "fb23091b",
   "metadata": {},
   "outputs": [
    {
     "data": {
      "text/html": [
       "<div>\n",
       "<style scoped>\n",
       "    .dataframe tbody tr th:only-of-type {\n",
       "        vertical-align: middle;\n",
       "    }\n",
       "\n",
       "    .dataframe tbody tr th {\n",
       "        vertical-align: top;\n",
       "    }\n",
       "\n",
       "    .dataframe thead th {\n",
       "        text-align: right;\n",
       "    }\n",
       "</style>\n",
       "<table border=\"1\" class=\"dataframe\">\n",
       "  <thead>\n",
       "    <tr style=\"text-align: right;\">\n",
       "      <th></th>\n",
       "      <th>submission_type</th>\n",
       "      <th>filing_date</th>\n",
       "      <th>report_date</th>\n",
       "      <th>report_year</th>\n",
       "      <th>cik</th>\n",
       "      <th>company_conformed_name</th>\n",
       "      <th>text</th>\n",
       "    </tr>\n",
       "  </thead>\n",
       "  <tbody>\n",
       "    <tr>\n",
       "      <th>0</th>\n",
       "      <td>10-K</td>\n",
       "      <td>20160311</td>\n",
       "      <td>20151231</td>\n",
       "      <td>2015</td>\n",
       "      <td>0000002178</td>\n",
       "      <td>ADAMS RESOURCES &amp; ENERGY, INC.</td>\n",
       "      <td>Item 7. MANAGEMENT'S DISCUSSION AND ANALYSIS O...</td>\n",
       "    </tr>\n",
       "    <tr>\n",
       "      <th>1</th>\n",
       "      <td>10-K</td>\n",
       "      <td>20160218</td>\n",
       "      <td>20151226</td>\n",
       "      <td>2015</td>\n",
       "      <td>0000002488</td>\n",
       "      <td>ADVANCED MICRO DEVICES INC</td>\n",
       "      <td>ITEM 7.\\n\\nMANAGEMENT'S DISCUSSION AND ANALYSI...</td>\n",
       "    </tr>\n",
       "    <tr>\n",
       "      <th>2</th>\n",
       "      <td>10-K</td>\n",
       "      <td>20160216</td>\n",
       "      <td>20151231</td>\n",
       "      <td>2015</td>\n",
       "      <td>0000003499</td>\n",
       "      <td>ALEXANDERS INC</td>\n",
       "      <td>ITEM 7.     management's discussion and analys...</td>\n",
       "    </tr>\n",
       "    <tr>\n",
       "      <th>3</th>\n",
       "      <td>10-K</td>\n",
       "      <td>20151210</td>\n",
       "      <td>20150930</td>\n",
       "      <td>2015</td>\n",
       "      <td>0000003545</td>\n",
       "      <td>ALICO INC</td>\n",
       "      <td>Item 7. Management's Discussion and Analysis o...</td>\n",
       "    </tr>\n",
       "    <tr>\n",
       "      <th>4</th>\n",
       "      <td>10-K</td>\n",
       "      <td>20161206</td>\n",
       "      <td>20160930</td>\n",
       "      <td>2016</td>\n",
       "      <td>0000003545</td>\n",
       "      <td>ALICO INC</td>\n",
       "      <td>Item 7. Management's Discussion and Analysis o...</td>\n",
       "    </tr>\n",
       "  </tbody>\n",
       "</table>\n",
       "</div>"
      ],
      "text/plain": [
       "  submission_type filing_date report_date report_year         cik  \\\n",
       "0            10-K    20160311    20151231        2015  0000002178   \n",
       "1            10-K    20160218    20151226        2015  0000002488   \n",
       "2            10-K    20160216    20151231        2015  0000003499   \n",
       "3            10-K    20151210    20150930        2015  0000003545   \n",
       "4            10-K    20161206    20160930        2016  0000003545   \n",
       "\n",
       "           company_conformed_name  \\\n",
       "0  ADAMS RESOURCES & ENERGY, INC.   \n",
       "1      ADVANCED MICRO DEVICES INC   \n",
       "2                  ALEXANDERS INC   \n",
       "3                       ALICO INC   \n",
       "4                       ALICO INC   \n",
       "\n",
       "                                                text  \n",
       "0  Item 7. MANAGEMENT'S DISCUSSION AND ANALYSIS O...  \n",
       "1  ITEM 7.\\n\\nMANAGEMENT'S DISCUSSION AND ANALYSI...  \n",
       "2  ITEM 7.     management's discussion and analys...  \n",
       "3  Item 7. Management's Discussion and Analysis o...  \n",
       "4  Item 7. Management's Discussion and Analysis o...  "
      ]
     },
     "execution_count": 34,
     "metadata": {},
     "output_type": "execute_result"
    }
   ],
   "source": [
    "reports.head()"
   ]
  },
  {
   "cell_type": "code",
   "execution_count": 40,
   "id": "6a1f4531",
   "metadata": {},
   "outputs": [
    {
     "data": {
      "text/plain": [
       "(8322, 7)"
      ]
     },
     "execution_count": 40,
     "metadata": {},
     "output_type": "execute_result"
    }
   ],
   "source": [
    "reports.shape"
   ]
  },
  {
   "cell_type": "code",
   "execution_count": 42,
   "id": "26296542",
   "metadata": {},
   "outputs": [
    {
     "data": {
      "text/plain": [
       "company_conformed_name\n",
       "SANTANDER DRIVE AUTO RECEIVABLES LLC    22\n",
       "Ally Auto Assets LLC                    12\n",
       "HYUNDAI ABS FUNDING LLC                 11\n",
       "AFS SenSub Corp.                        11\n",
       "CAPITAL AUTO RECEIVABLES LLC            10\n",
       "                                        ..\n",
       "SAGA COMMUNICATIONS INC                  1\n",
       "Neuralstem, Inc.                         1\n",
       "REPROS THERAPEUTICS INC.                 1\n",
       "INTER PARFUMS INC                        1\n",
       "AMARU INC                                1\n",
       "Name: count, Length: 7241, dtype: int64"
      ]
     },
     "execution_count": 42,
     "metadata": {},
     "output_type": "execute_result"
    }
   ],
   "source": [
    "reports['company_conformed_name'].value_counts()"
   ]
  },
  {
   "cell_type": "code",
   "execution_count": null,
   "id": "26d9b23a",
   "metadata": {},
   "outputs": [],
   "source": [
    "# 5. earnings_calls is 5 GB we will not process it here"
   ]
  },
  {
   "cell_type": "code",
   "execution_count": 3,
   "id": "1beaf3c6",
   "metadata": {},
   "outputs": [
    {
     "name": "stderr",
     "output_type": "stream",
     "text": [
      "/var/folders/fn/4xlpvr555jx0gt6033j7x9lr0000gn/T/ipykernel_45283/1294804984.py:3: DtypeWarning: Columns (1,2) have mixed types. Specify dtype option on import or set low_memory=False.\n",
      "  target = pd.read_csv('daily_crsp.csv')\n"
     ]
    }
   ],
   "source": [
    "# 6. Target dataset\n",
    "\n",
    "target = pd.read_csv('daily_crsp.csv')"
   ]
  },
  {
   "cell_type": "code",
   "execution_count": 7,
   "id": "83df6a3c",
   "metadata": {},
   "outputs": [
    {
     "data": {
      "text/html": [
       "<div>\n",
       "<style scoped>\n",
       "    .dataframe tbody tr th:only-of-type {\n",
       "        vertical-align: middle;\n",
       "    }\n",
       "\n",
       "    .dataframe tbody tr th {\n",
       "        vertical-align: top;\n",
       "    }\n",
       "\n",
       "    .dataframe thead th {\n",
       "        text-align: right;\n",
       "    }\n",
       "</style>\n",
       "<table border=\"1\" class=\"dataframe\">\n",
       "  <thead>\n",
       "    <tr style=\"text-align: right;\">\n",
       "      <th></th>\n",
       "      <th>PERMNO</th>\n",
       "      <th>HdrCUSIP</th>\n",
       "      <th>CUSIP</th>\n",
       "      <th>Ticker</th>\n",
       "      <th>TradingSymbol</th>\n",
       "      <th>PERMCO</th>\n",
       "      <th>SICCD</th>\n",
       "      <th>NAICS</th>\n",
       "      <th>DlyCalDt</th>\n",
       "      <th>DlyRet</th>\n",
       "      <th>sprtrn</th>\n",
       "    </tr>\n",
       "  </thead>\n",
       "  <tbody>\n",
       "    <tr>\n",
       "      <th>0</th>\n",
       "      <td>10001</td>\n",
       "      <td>36720410</td>\n",
       "      <td>29274A10</td>\n",
       "      <td>EWST</td>\n",
       "      <td>EWST</td>\n",
       "      <td>7953</td>\n",
       "      <td>4920</td>\n",
       "      <td>0</td>\n",
       "      <td>2000-01-03</td>\n",
       "      <td>0.007353</td>\n",
       "      <td>-0.009549</td>\n",
       "    </tr>\n",
       "    <tr>\n",
       "      <th>1</th>\n",
       "      <td>10001</td>\n",
       "      <td>36720410</td>\n",
       "      <td>29274A10</td>\n",
       "      <td>EWST</td>\n",
       "      <td>EWST</td>\n",
       "      <td>7953</td>\n",
       "      <td>4920</td>\n",
       "      <td>0</td>\n",
       "      <td>2000-01-04</td>\n",
       "      <td>-0.014599</td>\n",
       "      <td>-0.038345</td>\n",
       "    </tr>\n",
       "    <tr>\n",
       "      <th>2</th>\n",
       "      <td>10001</td>\n",
       "      <td>36720410</td>\n",
       "      <td>29274A10</td>\n",
       "      <td>EWST</td>\n",
       "      <td>EWST</td>\n",
       "      <td>7953</td>\n",
       "      <td>4920</td>\n",
       "      <td>0</td>\n",
       "      <td>2000-01-05</td>\n",
       "      <td>0.014815</td>\n",
       "      <td>0.001922</td>\n",
       "    </tr>\n",
       "    <tr>\n",
       "      <th>3</th>\n",
       "      <td>10001</td>\n",
       "      <td>36720410</td>\n",
       "      <td>29274A10</td>\n",
       "      <td>EWST</td>\n",
       "      <td>EWST</td>\n",
       "      <td>7953</td>\n",
       "      <td>4920</td>\n",
       "      <td>0</td>\n",
       "      <td>2000-01-06</td>\n",
       "      <td>-0.007299</td>\n",
       "      <td>0.000956</td>\n",
       "    </tr>\n",
       "    <tr>\n",
       "      <th>4</th>\n",
       "      <td>10001</td>\n",
       "      <td>36720410</td>\n",
       "      <td>29274A10</td>\n",
       "      <td>EWST</td>\n",
       "      <td>EWST</td>\n",
       "      <td>7953</td>\n",
       "      <td>4920</td>\n",
       "      <td>0</td>\n",
       "      <td>2000-01-07</td>\n",
       "      <td>-0.007353</td>\n",
       "      <td>0.027090</td>\n",
       "    </tr>\n",
       "  </tbody>\n",
       "</table>\n",
       "</div>"
      ],
      "text/plain": [
       "   PERMNO  HdrCUSIP     CUSIP Ticker TradingSymbol  PERMCO  SICCD  NAICS  \\\n",
       "0   10001  36720410  29274A10   EWST          EWST    7953   4920      0   \n",
       "1   10001  36720410  29274A10   EWST          EWST    7953   4920      0   \n",
       "2   10001  36720410  29274A10   EWST          EWST    7953   4920      0   \n",
       "3   10001  36720410  29274A10   EWST          EWST    7953   4920      0   \n",
       "4   10001  36720410  29274A10   EWST          EWST    7953   4920      0   \n",
       "\n",
       "     DlyCalDt    DlyRet    sprtrn  \n",
       "0  2000-01-03  0.007353 -0.009549  \n",
       "1  2000-01-04 -0.014599 -0.038345  \n",
       "2  2000-01-05  0.014815  0.001922  \n",
       "3  2000-01-06 -0.007299  0.000956  \n",
       "4  2000-01-07 -0.007353  0.027090  "
      ]
     },
     "execution_count": 7,
     "metadata": {},
     "output_type": "execute_result"
    }
   ],
   "source": [
    "target.head()"
   ]
  },
  {
   "cell_type": "code",
   "execution_count": 11,
   "id": "0dc14726",
   "metadata": {},
   "outputs": [
    {
     "data": {
      "text/plain": [
       "Ticker\n",
       "BF       14399\n",
       "HVT      12594\n",
       "AKO      12584\n",
       "HEI      12582\n",
       "CRD      12580\n",
       "         ...  \n",
       "PIOI         1\n",
       "WEFP         1\n",
       "NIDB         1\n",
       "BIOB         1\n",
       "AUTNV        1\n",
       "Name: count, Length: 23795, dtype: int64"
      ]
     },
     "execution_count": 11,
     "metadata": {},
     "output_type": "execute_result"
    }
   ],
   "source": [
    "target['Ticker'].value_counts()"
   ]
  },
  {
   "cell_type": "code",
   "execution_count": 22,
   "id": "2bb96f8a",
   "metadata": {},
   "outputs": [
    {
     "data": {
      "text/html": [
       "<div>\n",
       "<style scoped>\n",
       "    .dataframe tbody tr th:only-of-type {\n",
       "        vertical-align: middle;\n",
       "    }\n",
       "\n",
       "    .dataframe tbody tr th {\n",
       "        vertical-align: top;\n",
       "    }\n",
       "\n",
       "    .dataframe thead th {\n",
       "        text-align: right;\n",
       "    }\n",
       "</style>\n",
       "<table border=\"1\" class=\"dataframe\">\n",
       "  <thead>\n",
       "    <tr style=\"text-align: right;\">\n",
       "      <th></th>\n",
       "      <th>PERMNO</th>\n",
       "      <th>HdrCUSIP</th>\n",
       "      <th>CUSIP</th>\n",
       "      <th>Ticker</th>\n",
       "      <th>TradingSymbol</th>\n",
       "      <th>PERMCO</th>\n",
       "      <th>SICCD</th>\n",
       "      <th>NAICS</th>\n",
       "      <th>DlyCalDt</th>\n",
       "      <th>DlyRet</th>\n",
       "      <th>sprtrn</th>\n",
       "    </tr>\n",
       "  </thead>\n",
       "  <tbody>\n",
       "    <tr>\n",
       "      <th>14969455</th>\n",
       "      <td>29938</td>\n",
       "      <td>11563710</td>\n",
       "      <td>11563710</td>\n",
       "      <td>BF</td>\n",
       "      <td>BFA</td>\n",
       "      <td>20340</td>\n",
       "      <td>5181</td>\n",
       "      <td>312130</td>\n",
       "      <td>2004-08-30</td>\n",
       "      <td>0.010213</td>\n",
       "      <td>-0.007781</td>\n",
       "    </tr>\n",
       "    <tr>\n",
       "      <th>14971674</th>\n",
       "      <td>29938</td>\n",
       "      <td>11563710</td>\n",
       "      <td>11563710</td>\n",
       "      <td>BF</td>\n",
       "      <td>BFA</td>\n",
       "      <td>20340</td>\n",
       "      <td>5181</td>\n",
       "      <td>312130</td>\n",
       "      <td>2013-06-24</td>\n",
       "      <td>0.002511</td>\n",
       "      <td>-0.012145</td>\n",
       "    </tr>\n",
       "    <tr>\n",
       "      <th>14977898</th>\n",
       "      <td>29946</td>\n",
       "      <td>11563720</td>\n",
       "      <td>11563720</td>\n",
       "      <td>BF</td>\n",
       "      <td>BFB</td>\n",
       "      <td>20340</td>\n",
       "      <td>5181</td>\n",
       "      <td>312130</td>\n",
       "      <td>2013-03-21</td>\n",
       "      <td>-0.010589</td>\n",
       "      <td>-0.008282</td>\n",
       "    </tr>\n",
       "    <tr>\n",
       "      <th>14969961</th>\n",
       "      <td>29938</td>\n",
       "      <td>11563710</td>\n",
       "      <td>11563710</td>\n",
       "      <td>BF</td>\n",
       "      <td>BFA</td>\n",
       "      <td>20340</td>\n",
       "      <td>5181</td>\n",
       "      <td>312130</td>\n",
       "      <td>2006-08-31</td>\n",
       "      <td>0.011897</td>\n",
       "      <td>-0.000345</td>\n",
       "    </tr>\n",
       "    <tr>\n",
       "      <th>14976192</th>\n",
       "      <td>29946</td>\n",
       "      <td>11563720</td>\n",
       "      <td>11563720</td>\n",
       "      <td>BF</td>\n",
       "      <td>BFB</td>\n",
       "      <td>20340</td>\n",
       "      <td>5181</td>\n",
       "      <td>312130</td>\n",
       "      <td>2006-06-09</td>\n",
       "      <td>-0.014997</td>\n",
       "      <td>-0.004476</td>\n",
       "    </tr>\n",
       "    <tr>\n",
       "      <th>...</th>\n",
       "      <td>...</td>\n",
       "      <td>...</td>\n",
       "      <td>...</td>\n",
       "      <td>...</td>\n",
       "      <td>...</td>\n",
       "      <td>...</td>\n",
       "      <td>...</td>\n",
       "      <td>...</td>\n",
       "      <td>...</td>\n",
       "      <td>...</td>\n",
       "      <td>...</td>\n",
       "    </tr>\n",
       "    <tr>\n",
       "      <th>14973424</th>\n",
       "      <td>29938</td>\n",
       "      <td>11563710</td>\n",
       "      <td>11563710</td>\n",
       "      <td>BF</td>\n",
       "      <td>BFA</td>\n",
       "      <td>20340</td>\n",
       "      <td>2085</td>\n",
       "      <td>312140</td>\n",
       "      <td>2020-06-05</td>\n",
       "      <td>0.030953</td>\n",
       "      <td>0.026212</td>\n",
       "    </tr>\n",
       "    <tr>\n",
       "      <th>14969820</th>\n",
       "      <td>29938</td>\n",
       "      <td>11563710</td>\n",
       "      <td>11563710</td>\n",
       "      <td>BF</td>\n",
       "      <td>BFA</td>\n",
       "      <td>20340</td>\n",
       "      <td>5181</td>\n",
       "      <td>312130</td>\n",
       "      <td>2006-02-09</td>\n",
       "      <td>0.006401</td>\n",
       "      <td>-0.001477</td>\n",
       "    </tr>\n",
       "    <tr>\n",
       "      <th>14978399</th>\n",
       "      <td>29946</td>\n",
       "      <td>11563720</td>\n",
       "      <td>11563720</td>\n",
       "      <td>BF</td>\n",
       "      <td>BFB</td>\n",
       "      <td>20340</td>\n",
       "      <td>2085</td>\n",
       "      <td>312140</td>\n",
       "      <td>2015-03-18</td>\n",
       "      <td>0.004611</td>\n",
       "      <td>0.012158</td>\n",
       "    </tr>\n",
       "    <tr>\n",
       "      <th>14974456</th>\n",
       "      <td>29938</td>\n",
       "      <td>11563710</td>\n",
       "      <td>11563710</td>\n",
       "      <td>BF</td>\n",
       "      <td>BFA</td>\n",
       "      <td>20340</td>\n",
       "      <td>2085</td>\n",
       "      <td>312140</td>\n",
       "      <td>2024-07-15</td>\n",
       "      <td>-0.010004</td>\n",
       "      <td>0.002826</td>\n",
       "    </tr>\n",
       "    <tr>\n",
       "      <th>14976809</th>\n",
       "      <td>29946</td>\n",
       "      <td>11563720</td>\n",
       "      <td>11563720</td>\n",
       "      <td>BF</td>\n",
       "      <td>BFB</td>\n",
       "      <td>20340</td>\n",
       "      <td>5181</td>\n",
       "      <td>312130</td>\n",
       "      <td>2008-11-19</td>\n",
       "      <td>-0.029730</td>\n",
       "      <td>-0.061156</td>\n",
       "    </tr>\n",
       "  </tbody>\n",
       "</table>\n",
       "<p>1000 rows × 11 columns</p>\n",
       "</div>"
      ],
      "text/plain": [
       "          PERMNO  HdrCUSIP     CUSIP Ticker TradingSymbol  PERMCO  SICCD  \\\n",
       "14969455   29938  11563710  11563710     BF           BFA   20340   5181   \n",
       "14971674   29938  11563710  11563710     BF           BFA   20340   5181   \n",
       "14977898   29946  11563720  11563720     BF           BFB   20340   5181   \n",
       "14969961   29938  11563710  11563710     BF           BFA   20340   5181   \n",
       "14976192   29946  11563720  11563720     BF           BFB   20340   5181   \n",
       "...          ...       ...       ...    ...           ...     ...    ...   \n",
       "14973424   29938  11563710  11563710     BF           BFA   20340   2085   \n",
       "14969820   29938  11563710  11563710     BF           BFA   20340   5181   \n",
       "14978399   29946  11563720  11563720     BF           BFB   20340   2085   \n",
       "14974456   29938  11563710  11563710     BF           BFA   20340   2085   \n",
       "14976809   29946  11563720  11563720     BF           BFB   20340   5181   \n",
       "\n",
       "           NAICS    DlyCalDt    DlyRet    sprtrn  \n",
       "14969455  312130  2004-08-30  0.010213 -0.007781  \n",
       "14971674  312130  2013-06-24  0.002511 -0.012145  \n",
       "14977898  312130  2013-03-21 -0.010589 -0.008282  \n",
       "14969961  312130  2006-08-31  0.011897 -0.000345  \n",
       "14976192  312130  2006-06-09 -0.014997 -0.004476  \n",
       "...          ...         ...       ...       ...  \n",
       "14973424  312140  2020-06-05  0.030953  0.026212  \n",
       "14969820  312130  2006-02-09  0.006401 -0.001477  \n",
       "14978399  312140  2015-03-18  0.004611  0.012158  \n",
       "14974456  312140  2024-07-15 -0.010004  0.002826  \n",
       "14976809  312130  2008-11-19 -0.029730 -0.061156  \n",
       "\n",
       "[1000 rows x 11 columns]"
      ]
     },
     "execution_count": 22,
     "metadata": {},
     "output_type": "execute_result"
    }
   ],
   "source": [
    "target[target['Ticker'] == 'BF'].sample(1000)"
   ]
  }
 ],
 "metadata": {
  "kernelspec": {
   "display_name": "Python (base)",
   "language": "python",
   "name": "base"
  },
  "language_info": {
   "codemirror_mode": {
    "name": "ipython",
    "version": 3
   },
   "file_extension": ".py",
   "mimetype": "text/x-python",
   "name": "python",
   "nbconvert_exporter": "python",
   "pygments_lexer": "ipython3",
   "version": "3.9.21"
  }
 },
 "nbformat": 4,
 "nbformat_minor": 5
}
