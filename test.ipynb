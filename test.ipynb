{
 "cells": [
  {
   "cell_type": "markdown",
   "id": "25a74c32",
   "metadata": {},
   "source": [
    "# Monthly CRSP"
   ]
  },
  {
   "cell_type": "code",
   "execution_count": 30,
   "id": "d836f0e5",
   "metadata": {},
   "outputs": [],
   "source": [
    "import pandas as pd\n",
    "from sklearn.pipeline import Pipeline\n",
    "from sklearn.impute import SimpleImputer\n",
    "from sklearn.preprocessing import StandardScaler\n",
    "from sklearn.ensemble import RandomForestClassifier\n",
    "from sklearn.model_selection import train_test_split\n",
    "from sklearn.metrics import classification_report"
   ]
  },
  {
   "cell_type": "code",
   "execution_count": 31,
   "id": "41bc204b",
   "metadata": {},
   "outputs": [],
   "source": [
    "# Load Monthly CRSP\n",
    "\n",
    "CRSP_PATH = 'data/monthly_crsp.csv'\n",
    "df_crsp = pd.read_csv(\n",
    "    CRSP_PATH ,\n",
    "    parse_dates=['MthCalDt'],\n",
    "    usecols=['PERMNO','CUSIP','MthCalDt','MthRet']\n",
    ")"
   ]
  },
  {
   "cell_type": "code",
   "execution_count": 32,
   "id": "1e0f3bd0",
   "metadata": {},
   "outputs": [],
   "source": [
    "# Keep only good returns\n",
    "df_crsp = df_crsp.dropna(subset=['MthRet'])\n",
    "df_crsp['MthRet'] = df_crsp['MthRet'].astype(float)\n",
    "\n",
    "# Sort so shift is correct\n",
    "df_crsp = df_crsp.sort_values(['CUSIP','MthCalDt'])\n",
    "\n",
    "# Create next‐month return target and binary label\n",
    "df_crsp['Ret_t1'] = df_crsp.groupby('CUSIP')['MthRet'].shift(-1)\n",
    "df_crsp['y'] = (df_crsp['Ret_t1'] > 0).astype(int)\n",
    "df_crsp = df_crsp.dropna(subset=['y'])  # drop last obs per series"
   ]
  },
  {
   "cell_type": "code",
   "execution_count": 33,
   "id": "01aa4c95",
   "metadata": {},
   "outputs": [
    {
     "name": "stderr",
     "output_type": "stream",
     "text": [
      "/var/folders/8_/9rv7b7fd60g0_ghqkjccmhkc0000gn/T/ipykernel_98032/807793326.py:5: DtypeWarning: Columns (10) have mixed types. Specify dtype option on import or set low_memory=False.\n",
      "  df_comp = pd.read_csv(\n",
      "/var/folders/8_/9rv7b7fd60g0_ghqkjccmhkc0000gn/T/ipykernel_98032/807793326.py:5: UserWarning: Parsing dates in %Y-%m-%d format when dayfirst=True was specified. Pass `dayfirst=False` or specify a format to silence this warning.\n",
      "  df_comp = pd.read_csv(\n"
     ]
    }
   ],
   "source": [
    "# Load Compustat Fundamentals\n",
    "\n",
    "COMP_PATH = 'data/CompFirmCharac.csv'\n",
    "\n",
    "df_comp = pd.read_csv(\n",
    "    COMP_PATH,\n",
    "    parse_dates=['datadate'], dayfirst=True,\n",
    ")\n",
    "\n"
   ]
  },
  {
   "cell_type": "code",
   "execution_count": 34,
   "id": "68d2000e",
   "metadata": {},
   "outputs": [],
   "source": [
    "# Trim CUSIP to 8 chars and filter to industrial/consolidated\n",
    "df_comp['cusip'] = df_comp['cusip'].astype(str).str[:8]\n",
    "df_comp = df_comp[\n",
    "    (df_comp['indfmt'] == 'INDL') &\n",
    "    (df_comp['consol'] == 'C')\n",
    "]\n",
    "\n",
    "# Pick three example fundamentals\n",
    "fund_cols = ['revty', 'saley', 'capxy']"
   ]
  },
  {
   "cell_type": "code",
   "execution_count": 35,
   "id": "9a3cb521",
   "metadata": {},
   "outputs": [],
   "source": [
    "# Sanity check\n",
    "missing = [c for c in fund_cols if c not in df_comp.columns]\n",
    "if missing:\n",
    "    raise KeyError(f\"These Compustat codes are missing: {missing}\")"
   ]
  },
  {
   "cell_type": "code",
   "execution_count": 36,
   "id": "03abf47d",
   "metadata": {},
   "outputs": [],
   "source": [
    "df_comp = df_comp[['cusip','datadate'] + fund_cols].drop_duplicates()"
   ]
  },
  {
   "cell_type": "markdown",
   "id": "a7c0fc76",
   "metadata": {},
   "source": [
    "### MERGE FEATURES "
   ]
  },
  {
   "cell_type": "code",
   "execution_count": null,
   "id": "43dba560",
   "metadata": {},
   "outputs": [],
   "source": [
    "df_crsp['date'] = df_crsp['MthCalDt']\n",
    "df_crsp['cusip'] = df_crsp['CUSIP']\n",
    "\n",
    "df_crsp = df_crsp.dropna(subset=['cusip', 'date'])\n",
    "df_crsp['cusip'] = df_crsp['cusip'].astype(str).str[:8]\n",
    "df_crsp['date']  = pd.to_datetime(df_crsp['date'])\n",
    "df_crsp = df_crsp.set_index('date').sort_index()\n",
    "\n",
    "\n",
    "\n",
    "df_comp = df_comp.dropna(subset=['cusip', 'datadate'])\n",
    "df_comp['cusip'] = df_comp['cusip'].astype(str).str[:8]\n",
    "df_comp['datadate'] = pd.to_datetime(df_comp['datadate'])\n",
    "\n",
    "# Rename and set index\n",
    "df_comp = df_comp.rename(columns={'datadate':'date'})\n",
    "df_comp = df_comp.set_index('date').sort_index()\n",
    "\n",
    "\n",
    "df_merged = pd.merge_asof(\n",
    "    left=df_crsp,\n",
    "    right=df_comp[['cusip'] + fund_cols],\n",
    "    left_index=True,\n",
    "    right_index=True,\n",
    "    by='cusip',\n",
    "    direction='backward',\n",
    "    allow_exact_matches=True\n",
    ").reset_index()  # brings 'date' back as a column\n",
    "\n",
    "df_merged = df_merged.dropna(subset=fund_cols + ['y'])"
   ]
  },
  {
   "cell_type": "code",
   "execution_count": null,
   "id": "13bd5bbd",
   "metadata": {},
   "outputs": [
    {
     "data": {
      "text/html": [
       "<div>\n",
       "<style scoped>\n",
       "    .dataframe tbody tr th:only-of-type {\n",
       "        vertical-align: middle;\n",
       "    }\n",
       "\n",
       "    .dataframe tbody tr th {\n",
       "        vertical-align: top;\n",
       "    }\n",
       "\n",
       "    .dataframe thead th {\n",
       "        text-align: right;\n",
       "    }\n",
       "</style>\n",
       "<table border=\"1\" class=\"dataframe\">\n",
       "  <thead>\n",
       "    <tr style=\"text-align: right;\">\n",
       "      <th></th>\n",
       "      <th>date</th>\n",
       "      <th>PERMNO</th>\n",
       "      <th>CUSIP</th>\n",
       "      <th>MthCalDt</th>\n",
       "      <th>MthRet</th>\n",
       "      <th>Ret_t1</th>\n",
       "      <th>y</th>\n",
       "      <th>cusip</th>\n",
       "      <th>revty</th>\n",
       "      <th>saley</th>\n",
       "      <th>capxy</th>\n",
       "    </tr>\n",
       "  </thead>\n",
       "  <tbody>\n",
       "    <tr>\n",
       "      <th>811541</th>\n",
       "      <td>1983-09-30</td>\n",
       "      <td>57146</td>\n",
       "      <td>76047310</td>\n",
       "      <td>1983-09-30</td>\n",
       "      <td>0.047619</td>\n",
       "      <td>0.113636</td>\n",
       "      <td>1</td>\n",
       "      <td>76047310</td>\n",
       "      <td>7.044</td>\n",
       "      <td>7.044</td>\n",
       "      <td>0.024</td>\n",
       "    </tr>\n",
       "    <tr>\n",
       "      <th>811543</th>\n",
       "      <td>1983-09-30</td>\n",
       "      <td>70907</td>\n",
       "      <td>83153810</td>\n",
       "      <td>1983-09-30</td>\n",
       "      <td>0.111111</td>\n",
       "      <td>-0.230000</td>\n",
       "      <td>0</td>\n",
       "      <td>83153810</td>\n",
       "      <td>2.295</td>\n",
       "      <td>2.295</td>\n",
       "      <td>0.097</td>\n",
       "    </tr>\n",
       "    <tr>\n",
       "      <th>811545</th>\n",
       "      <td>1983-09-30</td>\n",
       "      <td>12408</td>\n",
       "      <td>02360910</td>\n",
       "      <td>1983-09-30</td>\n",
       "      <td>-0.053571</td>\n",
       "      <td>-0.094340</td>\n",
       "      <td>0</td>\n",
       "      <td>02360910</td>\n",
       "      <td>19.596</td>\n",
       "      <td>19.596</td>\n",
       "      <td>0.108</td>\n",
       "    </tr>\n",
       "    <tr>\n",
       "      <th>811546</th>\n",
       "      <td>1983-09-30</td>\n",
       "      <td>60898</td>\n",
       "      <td>10256510</td>\n",
       "      <td>1983-09-30</td>\n",
       "      <td>0.034091</td>\n",
       "      <td>0.021978</td>\n",
       "      <td>1</td>\n",
       "      <td>10256510</td>\n",
       "      <td>3.189</td>\n",
       "      <td>3.189</td>\n",
       "      <td>0.023</td>\n",
       "    </tr>\n",
       "    <tr>\n",
       "      <th>811559</th>\n",
       "      <td>1983-09-30</td>\n",
       "      <td>14227</td>\n",
       "      <td>03274410</td>\n",
       "      <td>1983-09-30</td>\n",
       "      <td>0.166667</td>\n",
       "      <td>-0.153846</td>\n",
       "      <td>0</td>\n",
       "      <td>03274410</td>\n",
       "      <td>4.568</td>\n",
       "      <td>4.568</td>\n",
       "      <td>0.164</td>\n",
       "    </tr>\n",
       "  </tbody>\n",
       "</table>\n",
       "</div>"
      ],
      "text/plain": [
       "             date  PERMNO     CUSIP   MthCalDt    MthRet    Ret_t1  y  \\\n",
       "811541 1983-09-30   57146  76047310 1983-09-30  0.047619  0.113636  1   \n",
       "811543 1983-09-30   70907  83153810 1983-09-30  0.111111 -0.230000  0   \n",
       "811545 1983-09-30   12408  02360910 1983-09-30 -0.053571 -0.094340  0   \n",
       "811546 1983-09-30   60898  10256510 1983-09-30  0.034091  0.021978  1   \n",
       "811559 1983-09-30   14227  03274410 1983-09-30  0.166667 -0.153846  0   \n",
       "\n",
       "           cusip   revty   saley  capxy  \n",
       "811541  76047310   7.044   7.044  0.024  \n",
       "811543  83153810   2.295   2.295  0.097  \n",
       "811545  02360910  19.596  19.596  0.108  \n",
       "811546  10256510   3.189   3.189  0.023  \n",
       "811559  03274410   4.568   4.568  0.164  "
      ]
     },
     "execution_count": 39,
     "metadata": {},
     "output_type": "execute_result"
    }
   ],
   "source": [
    "df_merged.head()"
   ]
  },
  {
   "cell_type": "markdown",
   "id": "168d1f72",
   "metadata": {},
   "source": [
    "### Training"
   ]
  },
  {
   "cell_type": "code",
   "execution_count": 40,
   "id": "aa94a000",
   "metadata": {},
   "outputs": [],
   "source": [
    "features = fund_cols\n",
    "X = df_merged[features]\n",
    "y = df_merged['y']\n",
    "\n",
    "# Chronological 80/20 split\n",
    "cut = int(len(df_merged)*0.8)\n",
    "X_train, X_test = X.iloc[:cut], X.iloc[cut:]\n",
    "y_train, y_test = y.iloc[:cut], y.iloc[cut:]\n"
   ]
  },
  {
   "cell_type": "code",
   "execution_count": 41,
   "id": "184039ee",
   "metadata": {},
   "outputs": [
    {
     "name": "stdout",
     "output_type": "stream",
     "text": [
      "Classification Report on Test Set:\n",
      "\n",
      "              precision    recall  f1-score   support\n",
      "\n",
      "           0       0.56      0.32      0.41    145316\n",
      "           1       0.51      0.74      0.60    140348\n",
      "\n",
      "    accuracy                           0.52    285664\n",
      "   macro avg       0.53      0.53      0.50    285664\n",
      "weighted avg       0.53      0.52      0.50    285664\n",
      "\n"
     ]
    }
   ],
   "source": [
    "pipe = Pipeline([\n",
    "    ('impute', SimpleImputer(strategy='median')),\n",
    "    ('scale',  StandardScaler()),\n",
    "    ('clf',    RandomForestClassifier(\n",
    "        n_estimators=100,\n",
    "        max_depth=5,\n",
    "        random_state=42,\n",
    "        n_jobs=-1\n",
    "    ))\n",
    "])\n",
    "\n",
    "pipe.fit(X_train, y_train)\n",
    "y_pred = pipe.predict(X_test)\n",
    "\n",
    "print(\"Classification Report on Test Set:\\n\")\n",
    "print(classification_report(y_test, y_pred))"
   ]
  }
 ],
 "metadata": {
  "kernelspec": {
   "display_name": "base",
   "language": "python",
   "name": "python3"
  },
  "language_info": {
   "codemirror_mode": {
    "name": "ipython",
    "version": 3
   },
   "file_extension": ".py",
   "mimetype": "text/x-python",
   "name": "python",
   "nbconvert_exporter": "python",
   "pygments_lexer": "ipython3",
   "version": "3.10.14"
  }
 },
 "nbformat": 4,
 "nbformat_minor": 5
}
